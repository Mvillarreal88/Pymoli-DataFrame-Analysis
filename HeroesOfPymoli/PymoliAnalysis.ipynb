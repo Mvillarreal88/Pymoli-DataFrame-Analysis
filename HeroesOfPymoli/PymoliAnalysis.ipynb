{
 "cells": [
  {
   "cell_type": "code",
   "execution_count": 2,
   "id": "d0faca5e",
   "metadata": {},
   "outputs": [],
   "source": [
    "#importing \n",
    "import pandas as pd"
   ]
  },
  {
   "cell_type": "code",
   "execution_count": 3,
   "id": "0a2afcd5",
   "metadata": {},
   "outputs": [],
   "source": [
    "pymoli_csv_path = \"purchase_data.csv\""
   ]
  },
  {
   "cell_type": "code",
   "execution_count": 4,
   "id": "fd21efd2",
   "metadata": {},
   "outputs": [],
   "source": [
    "#Importing data into a dataframe\n",
    "Pymoli_df = pd.read_csv(pymoli_csv_path)"
   ]
  },
  {
   "cell_type": "code",
   "execution_count": 5,
   "id": "3ffb9ac6",
   "metadata": {},
   "outputs": [
    {
     "data": {
      "text/html": [
       "<div>\n",
       "<style scoped>\n",
       "    .dataframe tbody tr th:only-of-type {\n",
       "        vertical-align: middle;\n",
       "    }\n",
       "\n",
       "    .dataframe tbody tr th {\n",
       "        vertical-align: top;\n",
       "    }\n",
       "\n",
       "    .dataframe thead th {\n",
       "        text-align: right;\n",
       "    }\n",
       "</style>\n",
       "<table border=\"1\" class=\"dataframe\">\n",
       "  <thead>\n",
       "    <tr style=\"text-align: right;\">\n",
       "      <th></th>\n",
       "      <th>Purchase ID</th>\n",
       "      <th>SN</th>\n",
       "      <th>Age</th>\n",
       "      <th>Gender</th>\n",
       "      <th>Item ID</th>\n",
       "      <th>Item Name</th>\n",
       "      <th>Price</th>\n",
       "    </tr>\n",
       "  </thead>\n",
       "  <tbody>\n",
       "    <tr>\n",
       "      <th>0</th>\n",
       "      <td>0</td>\n",
       "      <td>Lisim78</td>\n",
       "      <td>20</td>\n",
       "      <td>Male</td>\n",
       "      <td>108</td>\n",
       "      <td>Extraction, Quickblade Of Trembling Hands</td>\n",
       "      <td>3.53</td>\n",
       "    </tr>\n",
       "    <tr>\n",
       "      <th>1</th>\n",
       "      <td>1</td>\n",
       "      <td>Lisovynya38</td>\n",
       "      <td>40</td>\n",
       "      <td>Male</td>\n",
       "      <td>143</td>\n",
       "      <td>Frenzied Scimitar</td>\n",
       "      <td>1.56</td>\n",
       "    </tr>\n",
       "    <tr>\n",
       "      <th>2</th>\n",
       "      <td>2</td>\n",
       "      <td>Ithergue48</td>\n",
       "      <td>24</td>\n",
       "      <td>Male</td>\n",
       "      <td>92</td>\n",
       "      <td>Final Critic</td>\n",
       "      <td>4.88</td>\n",
       "    </tr>\n",
       "    <tr>\n",
       "      <th>3</th>\n",
       "      <td>3</td>\n",
       "      <td>Chamassasya86</td>\n",
       "      <td>24</td>\n",
       "      <td>Male</td>\n",
       "      <td>100</td>\n",
       "      <td>Blindscythe</td>\n",
       "      <td>3.27</td>\n",
       "    </tr>\n",
       "    <tr>\n",
       "      <th>4</th>\n",
       "      <td>4</td>\n",
       "      <td>Iskosia90</td>\n",
       "      <td>23</td>\n",
       "      <td>Male</td>\n",
       "      <td>131</td>\n",
       "      <td>Fury</td>\n",
       "      <td>1.44</td>\n",
       "    </tr>\n",
       "  </tbody>\n",
       "</table>\n",
       "</div>"
      ],
      "text/plain": [
       "   Purchase ID             SN  Age Gender  Item ID  \\\n",
       "0            0        Lisim78   20   Male      108   \n",
       "1            1    Lisovynya38   40   Male      143   \n",
       "2            2     Ithergue48   24   Male       92   \n",
       "3            3  Chamassasya86   24   Male      100   \n",
       "4            4      Iskosia90   23   Male      131   \n",
       "\n",
       "                                   Item Name  Price  \n",
       "0  Extraction, Quickblade Of Trembling Hands   3.53  \n",
       "1                          Frenzied Scimitar   1.56  \n",
       "2                               Final Critic   4.88  \n",
       "3                                Blindscythe   3.27  \n",
       "4                                       Fury   1.44  "
      ]
     },
     "execution_count": 5,
     "metadata": {},
     "output_type": "execute_result"
    }
   ],
   "source": [
    "Pymoli_df.head()"
   ]
  },
  {
   "cell_type": "code",
   "execution_count": 6,
   "id": "035a2017",
   "metadata": {},
   "outputs": [
    {
     "data": {
      "text/plain": [
       "Purchase ID    780\n",
       "SN             780\n",
       "Age            780\n",
       "Gender         780\n",
       "Item ID        780\n",
       "Item Name      780\n",
       "Price          780\n",
       "dtype: int64"
      ]
     },
     "execution_count": 6,
     "metadata": {},
     "output_type": "execute_result"
    }
   ],
   "source": [
    "Pymoli_df.count()"
   ]
  },
  {
   "cell_type": "code",
   "execution_count": 7,
   "id": "7ff125b2",
   "metadata": {},
   "outputs": [
    {
     "data": {
      "text/plain": [
       "0            Lisim78\n",
       "1        Lisovynya38\n",
       "2         Ithergue48\n",
       "3      Chamassasya86\n",
       "4          Iskosia90\n",
       "           ...      \n",
       "775       Aethedru70\n",
       "776           Iral74\n",
       "777       Yathecal72\n",
       "778          Sisur91\n",
       "779        Ennrian78\n",
       "Name: SN, Length: 780, dtype: object"
      ]
     },
     "execution_count": 7,
     "metadata": {},
     "output_type": "execute_result"
    }
   ],
   "source": [
    "SN_count = Pymoli_df[\"SN\"]\n",
    "SN_count"
   ]
  },
  {
   "cell_type": "code",
   "execution_count": 8,
   "id": "5186f2ab",
   "metadata": {},
   "outputs": [
    {
     "data": {
      "text/plain": [
       "576"
      ]
     },
     "execution_count": 8,
     "metadata": {},
     "output_type": "execute_result"
    }
   ],
   "source": [
    "player_count = SN_count.drop_duplicates()\n",
    "len(player_count)"
   ]
  },
  {
   "cell_type": "code",
   "execution_count": 9,
   "id": "354eb96f",
   "metadata": {},
   "outputs": [
    {
     "data": {
      "text/html": [
       "<div>\n",
       "<style scoped>\n",
       "    .dataframe tbody tr th:only-of-type {\n",
       "        vertical-align: middle;\n",
       "    }\n",
       "\n",
       "    .dataframe tbody tr th {\n",
       "        vertical-align: top;\n",
       "    }\n",
       "\n",
       "    .dataframe thead th {\n",
       "        text-align: right;\n",
       "    }\n",
       "</style>\n",
       "<table border=\"1\" class=\"dataframe\">\n",
       "  <thead>\n",
       "    <tr style=\"text-align: right;\">\n",
       "      <th></th>\n",
       "      <th>Total Players</th>\n",
       "    </tr>\n",
       "  </thead>\n",
       "  <tbody>\n",
       "    <tr>\n",
       "      <th>0</th>\n",
       "      <td>576</td>\n",
       "    </tr>\n",
       "  </tbody>\n",
       "</table>\n",
       "</div>"
      ],
      "text/plain": [
       "   Total Players\n",
       "0            576"
      ]
     },
     "execution_count": 9,
     "metadata": {},
     "output_type": "execute_result"
    }
   ],
   "source": [
    "player_count_df = pd.DataFrame({\"Total Players\" : [len(player_count)]})\n",
    "player_count_df"
   ]
  },
  {
   "cell_type": "code",
   "execution_count": 10,
   "id": "7f98721b",
   "metadata": {},
   "outputs": [
    {
     "data": {
      "text/plain": [
       "780"
      ]
     },
     "execution_count": 10,
     "metadata": {},
     "output_type": "execute_result"
    }
   ],
   "source": [
    "item_count = Pymoli_df[\"Item Name\"]\n",
    "len(item_count)"
   ]
  },
  {
   "cell_type": "code",
   "execution_count": 11,
   "id": "6f8bc739",
   "metadata": {},
   "outputs": [
    {
     "data": {
      "text/plain": [
       "179"
      ]
     },
     "execution_count": 11,
     "metadata": {},
     "output_type": "execute_result"
    }
   ],
   "source": [
    "unique_items = item_count.unique()\n",
    "len(unique_items)"
   ]
  },
  {
   "cell_type": "code",
   "execution_count": 12,
   "id": "b9bb9664",
   "metadata": {},
   "outputs": [
    {
     "data": {
      "text/plain": [
       "0    3.53\n",
       "1    1.56\n",
       "2    4.88\n",
       "3    3.27\n",
       "4    1.44\n",
       "Name: Price, dtype: float64"
      ]
     },
     "execution_count": 12,
     "metadata": {},
     "output_type": "execute_result"
    }
   ],
   "source": [
    "prices = Pymoli_df[\"Price\"]\n",
    "prices.head()"
   ]
  },
  {
   "cell_type": "code",
   "execution_count": 13,
   "id": "8f53da56",
   "metadata": {},
   "outputs": [
    {
     "data": {
      "text/plain": [
       "3.0509871794871795"
      ]
     },
     "execution_count": 13,
     "metadata": {},
     "output_type": "execute_result"
    }
   ],
   "source": [
    "avg_prices = prices.mean()\n",
    "avg_prices"
   ]
  },
  {
   "cell_type": "code",
   "execution_count": 14,
   "id": "8aead571",
   "metadata": {},
   "outputs": [
    {
     "data": {
      "text/plain": [
       "780"
      ]
     },
     "execution_count": 14,
     "metadata": {},
     "output_type": "execute_result"
    }
   ],
   "source": [
    "len(SN_count)"
   ]
  },
  {
   "cell_type": "code",
   "execution_count": 15,
   "id": "cdcb4fa0",
   "metadata": {},
   "outputs": [
    {
     "data": {
      "text/plain": [
       "2379.77"
      ]
     },
     "execution_count": 15,
     "metadata": {},
     "output_type": "execute_result"
    }
   ],
   "source": [
    "purchases = Pymoli_df[\"Price\"]\n",
    "total_revenue = purchases.sum()\n",
    "total_revenue"
   ]
  },
  {
   "cell_type": "code",
   "execution_count": 16,
   "id": "c23f8b42",
   "metadata": {
    "scrolled": true
   },
   "outputs": [
    {
     "data": {
      "text/html": [
       "<div>\n",
       "<style scoped>\n",
       "    .dataframe tbody tr th:only-of-type {\n",
       "        vertical-align: middle;\n",
       "    }\n",
       "\n",
       "    .dataframe tbody tr th {\n",
       "        vertical-align: top;\n",
       "    }\n",
       "\n",
       "    .dataframe thead th {\n",
       "        text-align: right;\n",
       "    }\n",
       "</style>\n",
       "<table border=\"1\" class=\"dataframe\">\n",
       "  <thead>\n",
       "    <tr style=\"text-align: right;\">\n",
       "      <th></th>\n",
       "      <th>Number of Unique items</th>\n",
       "      <th>Average Price</th>\n",
       "      <th>Number of Purchases</th>\n",
       "      <th>Total Revenue</th>\n",
       "    </tr>\n",
       "  </thead>\n",
       "  <tbody>\n",
       "    <tr>\n",
       "      <th>0</th>\n",
       "      <td>179</td>\n",
       "      <td>$ 3.05</td>\n",
       "      <td>780</td>\n",
       "      <td>$ 2,379.77</td>\n",
       "    </tr>\n",
       "  </tbody>\n",
       "</table>\n",
       "</div>"
      ],
      "text/plain": [
       "   Number of Unique items Average Price  Number of Purchases Total Revenue\n",
       "0                     179        $ 3.05                  780    $ 2,379.77"
      ]
     },
     "execution_count": 16,
     "metadata": {},
     "output_type": "execute_result"
    }
   ],
   "source": [
    "purchasing_tot_df = pd.DataFrame({\"Number of Unique items\" : [len(unique_items)], \"Average Price\" : [\"$ {:,.2f}\".format(avg_prices)],\n",
    "                                 \"Number of Purchases\" : [len(SN_count)], \"Total Revenue\" : [\"$ {:,.2f}\".format(total_revenue)]})\n",
    "purchasing_tot_df"
   ]
  },
  {
   "cell_type": "code",
   "execution_count": 17,
   "id": "45d081b0",
   "metadata": {
    "scrolled": false
   },
   "outputs": [
    {
     "data": {
      "text/html": [
       "<div>\n",
       "<style scoped>\n",
       "    .dataframe tbody tr th:only-of-type {\n",
       "        vertical-align: middle;\n",
       "    }\n",
       "\n",
       "    .dataframe tbody tr th {\n",
       "        vertical-align: top;\n",
       "    }\n",
       "\n",
       "    .dataframe thead th {\n",
       "        text-align: right;\n",
       "    }\n",
       "</style>\n",
       "<table border=\"1\" class=\"dataframe\">\n",
       "  <thead>\n",
       "    <tr style=\"text-align: right;\">\n",
       "      <th></th>\n",
       "      <th>Gender</th>\n",
       "      <th>Percent of Players</th>\n",
       "      <th>Gender Count</th>\n",
       "    </tr>\n",
       "  </thead>\n",
       "  <tbody>\n",
       "    <tr>\n",
       "      <th>0</th>\n",
       "      <td>Male</td>\n",
       "      <td>84.00%</td>\n",
       "      <td>484</td>\n",
       "    </tr>\n",
       "    <tr>\n",
       "      <th>1</th>\n",
       "      <td>Female</td>\n",
       "      <td>14.00%</td>\n",
       "      <td>81</td>\n",
       "    </tr>\n",
       "    <tr>\n",
       "      <th>2</th>\n",
       "      <td>Other/ND</td>\n",
       "      <td>2.00%</td>\n",
       "      <td>11</td>\n",
       "    </tr>\n",
       "  </tbody>\n",
       "</table>\n",
       "</div>"
      ],
      "text/plain": [
       "     Gender Percent of Players  Gender Count\n",
       "0      Male             84.00%           484\n",
       "1    Female             14.00%            81\n",
       "2  Other/ND              2.00%            11"
      ]
     },
     "execution_count": 17,
     "metadata": {},
     "output_type": "execute_result"
    }
   ],
   "source": [
    "# Determining Count of male players and percent\n",
    "male_pull = Pymoli_df.loc[Pymoli_df[\"Gender\"] == \"Male\"]\n",
    "male_sum = male_pull['SN'].nunique()\n",
    "percent_male = round((male_sum/len(player_count)*100))\n",
    "\n",
    "# Determining Count of female players and percent\n",
    "female_pull = Pymoli_df.loc[Pymoli_df[\"Gender\"] == \"Female\"]\n",
    "female_sum = female_pull['SN'].nunique()\n",
    "percent_female = round((female_sum/len(player_count)*100))\n",
    "\n",
    "#Count of Other / Non-Disclosed\n",
    "other_pull = Pymoli_df.loc[Pymoli_df[\"Gender\"] == \"Other / Non-Disclosed\"]\n",
    "other_sum = other_pull['SN'].nunique()\n",
    "percent_other = round((other_sum/len(player_count)*100))\n",
    "\n",
    "\n",
    "#Dataframe for gender\n",
    "Gender_df = pd.DataFrame({\"Gender\": [\"Male\", \"Female\", \"Other/ND\"], \n",
    "                          'Percent of Players': [\"{0:.2f}%\".format(percent_male), \"{0:.2f}%\".format(percent_female), \"{0:.2f}%\".format(percent_other)],  \n",
    "                          'Gender Count': [male_sum, female_sum, other_sum]})\n",
    "Gender_df"
   ]
  },
  {
   "cell_type": "code",
   "execution_count": 18,
   "id": "f35f71b2",
   "metadata": {},
   "outputs": [
    {
     "data": {
      "text/html": [
       "<div>\n",
       "<style scoped>\n",
       "    .dataframe tbody tr th:only-of-type {\n",
       "        vertical-align: middle;\n",
       "    }\n",
       "\n",
       "    .dataframe tbody tr th {\n",
       "        vertical-align: top;\n",
       "    }\n",
       "\n",
       "    .dataframe thead th {\n",
       "        text-align: right;\n",
       "    }\n",
       "</style>\n",
       "<table border=\"1\" class=\"dataframe\">\n",
       "  <thead>\n",
       "    <tr style=\"text-align: right;\">\n",
       "      <th></th>\n",
       "      <th>Total Count</th>\n",
       "      <th>Percentage of Players</th>\n",
       "    </tr>\n",
       "  </thead>\n",
       "  <tbody>\n",
       "    <tr>\n",
       "      <th>&lt;10</th>\n",
       "      <td>17</td>\n",
       "      <td>2.95 %</td>\n",
       "    </tr>\n",
       "    <tr>\n",
       "      <th>10-14</th>\n",
       "      <td>22</td>\n",
       "      <td>3.82 %</td>\n",
       "    </tr>\n",
       "    <tr>\n",
       "      <th>15-19</th>\n",
       "      <td>107</td>\n",
       "      <td>18.58 %</td>\n",
       "    </tr>\n",
       "    <tr>\n",
       "      <th>20-24</th>\n",
       "      <td>258</td>\n",
       "      <td>44.79 %</td>\n",
       "    </tr>\n",
       "    <tr>\n",
       "      <th>25-29</th>\n",
       "      <td>77</td>\n",
       "      <td>13.37 %</td>\n",
       "    </tr>\n",
       "    <tr>\n",
       "      <th>30-34</th>\n",
       "      <td>52</td>\n",
       "      <td>9.03 %</td>\n",
       "    </tr>\n",
       "    <tr>\n",
       "      <th>35-39</th>\n",
       "      <td>31</td>\n",
       "      <td>5.38 %</td>\n",
       "    </tr>\n",
       "    <tr>\n",
       "      <th>40+</th>\n",
       "      <td>12</td>\n",
       "      <td>2.08 %</td>\n",
       "    </tr>\n",
       "  </tbody>\n",
       "</table>\n",
       "</div>"
      ],
      "text/plain": [
       "       Total Count Percentage of Players\n",
       "<10             17                2.95 %\n",
       "10-14           22                3.82 %\n",
       "15-19          107               18.58 %\n",
       "20-24          258               44.79 %\n",
       "25-29           77               13.37 %\n",
       "30-34           52                9.03 %\n",
       "35-39           31                5.38 %\n",
       "40+             12                2.08 %"
      ]
     },
     "execution_count": 18,
     "metadata": {},
     "output_type": "execute_result"
    }
   ],
   "source": [
    "# Creating the bin for age, and sorting\n",
    "bins = [0, 9.90, 14.90, 19.90, 24.90, 29.90, 34.90, 39.90, 99999]\n",
    "groups = [\"<10\", \"10-14\", \"15-19\", \"20-24\", \"25-29\", \"30-34\", \"35-39\", \"40+\"]\n",
    "\n",
    "Pymoli_df[\"Age Group\"] = pd.cut(Pymoli_df[\"Age\"],bins, labels=groups)\n",
    "\n",
    "\n",
    "# Create new data frame with new group, and count total number of players by age\n",
    "grouped_age = Pymoli_df.groupby(\"Age Group\")\n",
    "\n",
    "age_count = grouped_age[\"SN\"].nunique()\n",
    "\n",
    "# Calculate percentages\n",
    "age_perc = (age_count/len(player_count)) * 100\n",
    "\n",
    "# Create data frame of the obtained values\n",
    "age_demo = pd.DataFrame({ \"Total Count\": age_count, \"Percentage of Players\": age_perc})\n",
    "\n",
    "#Remove age group from the top left of table\n",
    "age_demo.index.name = None\n",
    "\n",
    "age_demo[\"Percentage of Players\"] = age_demo[\"Percentage of Players\"].map(\"{:,.2f} %\".format)\n",
    "\n",
    "age_demo"
   ]
  },
  {
   "cell_type": "code",
   "execution_count": 19,
   "id": "c84903a5",
   "metadata": {
    "scrolled": true
   },
   "outputs": [
    {
     "data": {
      "text/html": [
       "<div>\n",
       "<style scoped>\n",
       "    .dataframe tbody tr th:only-of-type {\n",
       "        vertical-align: middle;\n",
       "    }\n",
       "\n",
       "    .dataframe tbody tr th {\n",
       "        vertical-align: top;\n",
       "    }\n",
       "\n",
       "    .dataframe thead th {\n",
       "        text-align: right;\n",
       "    }\n",
       "</style>\n",
       "<table border=\"1\" class=\"dataframe\">\n",
       "  <thead>\n",
       "    <tr style=\"text-align: right;\">\n",
       "      <th></th>\n",
       "      <th>Purchase Count</th>\n",
       "      <th>Average Purchase Price</th>\n",
       "      <th>Total Purchase Value</th>\n",
       "      <th>Avg Total Purchase per Person</th>\n",
       "    </tr>\n",
       "    <tr>\n",
       "      <th>Age Group</th>\n",
       "      <th></th>\n",
       "      <th></th>\n",
       "      <th></th>\n",
       "      <th></th>\n",
       "    </tr>\n",
       "  </thead>\n",
       "  <tbody>\n",
       "    <tr>\n",
       "      <th>&lt;10</th>\n",
       "      <td>23</td>\n",
       "      <td>$ 3.35</td>\n",
       "      <td>77.13</td>\n",
       "      <td>$ 4.54</td>\n",
       "    </tr>\n",
       "    <tr>\n",
       "      <th>10-14</th>\n",
       "      <td>28</td>\n",
       "      <td>$ 2.96</td>\n",
       "      <td>82.78</td>\n",
       "      <td>$ 3.76</td>\n",
       "    </tr>\n",
       "    <tr>\n",
       "      <th>15-19</th>\n",
       "      <td>136</td>\n",
       "      <td>$ 3.04</td>\n",
       "      <td>412.89</td>\n",
       "      <td>$ 3.86</td>\n",
       "    </tr>\n",
       "    <tr>\n",
       "      <th>20-24</th>\n",
       "      <td>365</td>\n",
       "      <td>$ 3.05</td>\n",
       "      <td>1114.06</td>\n",
       "      <td>$ 4.32</td>\n",
       "    </tr>\n",
       "    <tr>\n",
       "      <th>25-29</th>\n",
       "      <td>101</td>\n",
       "      <td>$ 2.90</td>\n",
       "      <td>293.00</td>\n",
       "      <td>$ 3.81</td>\n",
       "    </tr>\n",
       "    <tr>\n",
       "      <th>30-34</th>\n",
       "      <td>73</td>\n",
       "      <td>$ 2.93</td>\n",
       "      <td>214.00</td>\n",
       "      <td>$ 4.12</td>\n",
       "    </tr>\n",
       "    <tr>\n",
       "      <th>35-39</th>\n",
       "      <td>41</td>\n",
       "      <td>$ 3.60</td>\n",
       "      <td>147.67</td>\n",
       "      <td>$ 4.76</td>\n",
       "    </tr>\n",
       "    <tr>\n",
       "      <th>40+</th>\n",
       "      <td>13</td>\n",
       "      <td>$ 2.94</td>\n",
       "      <td>38.24</td>\n",
       "      <td>$ 3.19</td>\n",
       "    </tr>\n",
       "  </tbody>\n",
       "</table>\n",
       "</div>"
      ],
      "text/plain": [
       "           Purchase Count Average Purchase Price  Total Purchase Value  \\\n",
       "Age Group                                                                \n",
       "<10                    23                 $ 3.35                 77.13   \n",
       "10-14                  28                 $ 2.96                 82.78   \n",
       "15-19                 136                 $ 3.04                412.89   \n",
       "20-24                 365                 $ 3.05               1114.06   \n",
       "25-29                 101                 $ 2.90                293.00   \n",
       "30-34                  73                 $ 2.93                214.00   \n",
       "35-39                  41                 $ 3.60                147.67   \n",
       "40+                    13                 $ 2.94                 38.24   \n",
       "\n",
       "          Avg Total Purchase per Person  \n",
       "Age Group                                \n",
       "<10                              $ 4.54  \n",
       "10-14                            $ 3.76  \n",
       "15-19                            $ 3.86  \n",
       "20-24                            $ 4.32  \n",
       "25-29                            $ 3.81  \n",
       "30-34                            $ 4.12  \n",
       "35-39                            $ 4.76  \n",
       "40+                              $ 3.19  "
      ]
     },
     "execution_count": 19,
     "metadata": {},
     "output_type": "execute_result"
    }
   ],
   "source": [
    "#Run the prior bin I had created for ages and add variables\n",
    "Pymoli_df[\"Age Group\"] = pd.cut(Pymoli_df[\"Age\"],bins, labels=groups)\n",
    "\n",
    "purchase_age_tot = Pymoli_df.groupby([\"Age Group\"]).sum()[\"Price\"]\n",
    "age_mean = Pymoli_df.groupby([\"Age Group\"]).mean()[\"Price\"]\n",
    "age_count_analysis = Pymoli_df.groupby([\"Age Group\"]).count()[\"Price\"]\n",
    "avg_purch = purchase_age_tot / age_count\n",
    "\n",
    "\n",
    "#Rename Columns\n",
    "purchase_age_tot.rename(\"Total Purchase Value\")\n",
    "age_mean.rename(\"Average Purchase Price\")\n",
    "age_count_analysis.rename(\"Purchase Count\")\n",
    "\n",
    "\n",
    "#Create Dataframe\n",
    "purchas_age_df = pd.DataFrame({\n",
    "                        \"Purchase Count\": age_count_analysis,\n",
    "                        \"Average Purchase Price\": [\"$ {:,.2f}\".format(x) for x in age_mean],\n",
    "                        \"Total Purchase Value\": purchase_age_tot,\n",
    "                        \"Avg Total Purchase per Person\": [\"$ {:,.2f}\".format(y) for y in avg_purch]\n",
    "                        })\n",
    "purchas_age_df"
   ]
  },
  {
   "cell_type": "code",
   "execution_count": 31,
   "id": "0d25d7cf",
   "metadata": {},
   "outputs": [
    {
     "data": {
      "text/html": [
       "<div>\n",
       "<style scoped>\n",
       "    .dataframe tbody tr th:only-of-type {\n",
       "        vertical-align: middle;\n",
       "    }\n",
       "\n",
       "    .dataframe tbody tr th {\n",
       "        vertical-align: top;\n",
       "    }\n",
       "\n",
       "    .dataframe thead th {\n",
       "        text-align: right;\n",
       "    }\n",
       "</style>\n",
       "<table border=\"1\" class=\"dataframe\">\n",
       "  <thead>\n",
       "    <tr style=\"text-align: right;\">\n",
       "      <th></th>\n",
       "      <th>Purchase Count</th>\n",
       "      <th>Average Purchase Price</th>\n",
       "      <th>Total Purchase Value</th>\n",
       "    </tr>\n",
       "    <tr>\n",
       "      <th>SN</th>\n",
       "      <th></th>\n",
       "      <th></th>\n",
       "      <th></th>\n",
       "    </tr>\n",
       "  </thead>\n",
       "  <tbody>\n",
       "    <tr>\n",
       "      <th>Lisosia93</th>\n",
       "      <td>5</td>\n",
       "      <td>$3.79</td>\n",
       "      <td>$18.96</td>\n",
       "    </tr>\n",
       "    <tr>\n",
       "      <th>Idastidru52</th>\n",
       "      <td>4</td>\n",
       "      <td>$3.86</td>\n",
       "      <td>$15.45</td>\n",
       "    </tr>\n",
       "    <tr>\n",
       "      <th>Chamjask73</th>\n",
       "      <td>3</td>\n",
       "      <td>$4.61</td>\n",
       "      <td>$13.83</td>\n",
       "    </tr>\n",
       "    <tr>\n",
       "      <th>Iral74</th>\n",
       "      <td>4</td>\n",
       "      <td>$3.40</td>\n",
       "      <td>$13.62</td>\n",
       "    </tr>\n",
       "    <tr>\n",
       "      <th>Iskadarya95</th>\n",
       "      <td>3</td>\n",
       "      <td>$4.37</td>\n",
       "      <td>$13.10</td>\n",
       "    </tr>\n",
       "  </tbody>\n",
       "</table>\n",
       "</div>"
      ],
      "text/plain": [
       "             Purchase Count Average Purchase Price Total Purchase Value\n",
       "SN                                                                     \n",
       "Lisosia93                 5                  $3.79               $18.96\n",
       "Idastidru52               4                  $3.86               $15.45\n",
       "Chamjask73                3                  $4.61               $13.83\n",
       "Iral74                    4                  $3.40               $13.62\n",
       "Iskadarya95               3                  $4.37               $13.10"
      ]
     },
     "execution_count": 31,
     "metadata": {},
     "output_type": "execute_result"
    }
   ],
   "source": [
    "#Getting the purchase count for each username from the data\n",
    "spenders_count = Pymoli_df.groupby(\"SN\")[\"Purchase ID\"].count()\n",
    "\n",
    "#Grabbing the average purchase price and  total purchases values\n",
    "spenders_average = Pymoli_df.groupby(\"SN\")[\"Price\"].mean()\n",
    "total_purchases = Pymoli_df.groupby(\"SN\")[\"Price\"].sum()\n",
    "\n",
    "\n",
    "\n",
    "spender_df = pd.DataFrame({\"Purchase Count\" : spenders_count, \n",
    "                           \"Average Purchase Price\" : spenders_average,\n",
    "                           \"Total Purchase Value\" : total_purchases\n",
    "                          })\n",
    "\n",
    "\n",
    "#Determining the top 5 spenders of the users\n",
    "spender_df = spender_df.sort_values([\"Total Purchase Value\"], ascending=False).head()\n",
    "\n",
    "spender_df[\"Average Purchase Price\"]=spender_df[\"Average Purchase Price\"].map(\"${:.2f}\".format)\n",
    "spender_df[\"Total Purchase Value\"]=spender_df[\"Total Purchase Value\"].map(\"${:.2f}\".format)\n",
    "\n",
    "spender_df"
   ]
  },
  {
   "cell_type": "code",
   "execution_count": null,
   "id": "68e7b393",
   "metadata": {},
   "outputs": [],
   "source": []
  }
 ],
 "metadata": {
  "kernelspec": {
   "display_name": "Python [conda env:PythonData] *",
   "language": "python",
   "name": "conda-env-PythonData-py"
  },
  "language_info": {
   "codemirror_mode": {
    "name": "ipython",
    "version": 3
   },
   "file_extension": ".py",
   "mimetype": "text/x-python",
   "name": "python",
   "nbconvert_exporter": "python",
   "pygments_lexer": "ipython3",
   "version": "3.6.10"
  }
 },
 "nbformat": 4,
 "nbformat_minor": 5
}
